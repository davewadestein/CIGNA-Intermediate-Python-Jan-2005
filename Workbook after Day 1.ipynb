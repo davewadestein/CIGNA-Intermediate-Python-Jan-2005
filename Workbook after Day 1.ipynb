{
 "cells": [
  {
   "cell_type": "markdown",
   "id": "d8ac0735-6397-4379-89f7-679308c7694c",
   "metadata": {},
   "source": [
    "# Important things to know about Python\n",
    "* Python is dynamically typed\n",
    "  * when you create a variable, you just give it a value, you don't specify its type\n",
    "  * plus = you just create a variable, put something in it, and be done with it\n",
    "  * minus = you can make a mistake–you can put the wrong datatype into a variable w/no comment from Python\n",
    "* fundamental data types: __`int`__, __`float`__, __`str`__, __`bool`__\n",
    "* scalars vs. containers\n",
    "  * scalar = one single value ... __`int`__, __`float`__, __`bool`__\n",
    "  * containers = objects which hold 0+ values inside them\n",
    "    * e.g., __`str`__, list, tuple, dict, set\n",
    "* mutable vs. immutable objects\n",
    "  * immutable = str, tuple, frozenset\n",
    "  * mutable = list, dict, set\n",
    "* Everything is an object!\n",
    "  * every \"thing\" that we work with (e.g., variables, modules, functions) is\n",
    "    1. stored in memory and we can inspect it\n",
    "    2. every thing is composed of multiple parts\n",
    "      * some parts are functions\n",
    "      * other parts are data (attributes)\n",
    "* Duck Typing\n",
    "  * \"If it walks like a duck, and it quacks like a duck, I'll call it a duck\"\n",
    "  * Python functions can, rather than restricting what types of arguments are passed to them, instead expect an attribute or \"feature\" of that type, and as long as the argument exhibits that feature, it will work\n",
    "* strings can be delimited by ' or \"\n",
    "* tuples typically represent a \"row\" of a database/spreadsheet, etc. (heterogeneous)\n",
    "* ...whereas lists typically represent a column (homogeneous)\n",
    "* __`*`__ is used to unpack a container like list, tuple\n",
    "* __`**`__ is used to unpack a dict into key=value items\n",
    "* __`*args`__, __`**kwargs`__"
   ]
  },
  {
   "cell_type": "markdown",
   "id": "1313be55-176c-4c90-832e-50ab403bd3cd",
   "metadata": {},
   "source": [
    "# Pythonic\n",
    "* code written in such a way that other Python programmers expect it\n",
    "* using common idioms\n",
    "* \"My name is Rick and I'm a Java programmer. I've started to teach myself Python, but my Python looks like Java\"\n",
    "* e.g.,\n",
    "  * __`container[-1]`__ always means the last item in the container\n",
    "  * __`container[-n]`__ always means the nth from the last in the container\n",
    "  * __`fruits = 'apple fig orange banana pear'.split()`__ is easy to way to make a list\n",
    "  * use _ when you don't need a variable name but you need a \"placeholder\"\n",
    "     * e.g., __`first, *_, last = [some list of items]`__\n",
    "     * e.g., __`for _ in range(n)`__ means \"do this n times\" (no confusion with a counting loop)"
   ]
  },
  {
   "cell_type": "markdown",
   "id": "d8208795-5d67-465b-945f-9f87559ebd84",
   "metadata": {},
   "source": [
    "# Important Programming Principles\n",
    "* choose good variable names, e.g.,\n",
    "  * __`cost`__ is better than __`c`__ (but __`cost_per_ounce`__ might be better still)\n",
    "  * __`queue_name`__\n",
    "  * __`first_name`__\n",
    "  * __`pressure`__\n",
    "  * e.g., not __`p`__ or __`first`__, etc.\n",
    "* “Programs must be written for people to read, and only incidentally for machines to execute.” –Hal Abelson\n",
    "  * \"Your code tells a story, so tell a GOOD one\" –DWS\n",
    "* Eagleson's Law: \"Any code you wrote more than six months ago might as well have been written by someone else\"\n",
    "   * be kind to your future self\n",
    "* \"Mechanical Sympathy\"\n",
    "   * in order to be an expert at something, you need to understand how it works under the hood"
   ]
  },
  {
   "cell_type": "code",
   "execution_count": 1,
   "id": "dfde02d8-d03e-40fd-948d-d98fe2cfec4b",
   "metadata": {},
   "outputs": [],
   "source": [
    "name = 'Randy' # string or text "
   ]
  },
  {
   "cell_type": "markdown",
   "id": "f3020479-b50d-4c38-adc8-ecf02e2b4c85",
   "metadata": {},
   "source": [
    "# function\n",
    "* a bit of code that's wrapped up and named\n",
    "* can have some input\n",
    "* task it performs\n",
    "* can have some output\n",
    "* think of an appliance (e.g., blender)\n",
    "  "
   ]
  },
  {
   "cell_type": "code",
   "execution_count": 9,
   "id": "f3bc3ab2-c1c7-4afc-9963-a9bb472fd276",
   "metadata": {},
   "outputs": [],
   "source": [
    "cost = 15.43"
   ]
  },
  {
   "cell_type": "code",
   "execution_count": 8,
   "id": "7a614e7a-da9e-495d-b502-e3e0cac16380",
   "metadata": {},
   "outputs": [
    {
     "data": {
      "text/plain": [
       "float"
      ]
     },
     "execution_count": 8,
     "metadata": {},
     "output_type": "execute_result"
    }
   ],
   "source": [
    "type(cost) # what's the type of cost?"
   ]
  },
  {
   "cell_type": "code",
   "execution_count": 10,
   "id": "364004f7-5be4-4cec-b4ab-7b58283176be",
   "metadata": {},
   "outputs": [],
   "source": [
    "cost = 12"
   ]
  },
  {
   "cell_type": "code",
   "execution_count": 11,
   "id": "31e0a73d-d84c-412f-a3ec-42b6633cb077",
   "metadata": {},
   "outputs": [
    {
     "data": {
      "text/plain": [
       "int"
      ]
     },
     "execution_count": 11,
     "metadata": {},
     "output_type": "execute_result"
    }
   ],
   "source": [
    "type(cost)"
   ]
  },
  {
   "cell_type": "code",
   "execution_count": 13,
   "id": "11979db2-eb38-4040-9088-6e8dc41ffe6e",
   "metadata": {},
   "outputs": [],
   "source": [
    "number = -15."
   ]
  },
  {
   "cell_type": "code",
   "execution_count": 14,
   "id": "1989a322-9dce-401b-b976-e9cb6dac0a53",
   "metadata": {},
   "outputs": [
    {
     "data": {
      "text/plain": [
       "float"
      ]
     },
     "execution_count": 14,
     "metadata": {},
     "output_type": "execute_result"
    }
   ],
   "source": [
    "type(number)"
   ]
  },
  {
   "cell_type": "code",
   "execution_count": 16,
   "id": "9d14c51e-22b4-4ce4-a881-1ba5bbbfd748",
   "metadata": {},
   "outputs": [],
   "source": [
    "text = '-14.3blah ok ?' # str variable"
   ]
  },
  {
   "cell_type": "code",
   "execution_count": 18,
   "id": "ba79b75b-35a9-426c-9e18-80aff8f882e7",
   "metadata": {},
   "outputs": [
    {
     "data": {
      "text/plain": [
       "str"
      ]
     },
     "execution_count": 18,
     "metadata": {},
     "output_type": "execute_result"
    }
   ],
   "source": [
    "type(text)"
   ]
  },
  {
   "cell_type": "code",
   "execution_count": 19,
   "id": "a2b38cca-074c-4502-8221-0da48a47d38f",
   "metadata": {},
   "outputs": [
    {
     "data": {
      "text/plain": [
       "'-14.3blah ok ?'"
      ]
     },
     "execution_count": 19,
     "metadata": {},
     "output_type": "execute_result"
    }
   ],
   "source": [
    "text"
   ]
  },
  {
   "cell_type": "code",
   "execution_count": 20,
   "id": "c0a66cb7-df00-4cc2-89a2-c52f3c30f44b",
   "metadata": {},
   "outputs": [],
   "source": [
    "cost = 'hi'"
   ]
  },
  {
   "cell_type": "code",
   "execution_count": 21,
   "id": "17026973-4fbb-4a34-8d6e-20233bfd8b27",
   "metadata": {},
   "outputs": [
    {
     "data": {
      "text/plain": [
       "'hi'"
      ]
     },
     "execution_count": 21,
     "metadata": {},
     "output_type": "execute_result"
    }
   ],
   "source": [
    "cost"
   ]
  },
  {
   "cell_type": "code",
   "execution_count": 22,
   "id": "7d1af744-5f67-4bc9-bc17-7d0b486fc9e3",
   "metadata": {},
   "outputs": [
    {
     "name": "stdout",
     "output_type": "stream",
     "text": [
      "My name is Dave\n"
     ]
    }
   ],
   "source": [
    "name = 'Dave'\n",
    "print('My name is', name)"
   ]
  },
  {
   "cell_type": "code",
   "execution_count": 23,
   "id": "d38f826c-5c13-467f-b2bd-8aa8d864d902",
   "metadata": {},
   "outputs": [
    {
     "data": {
      "text/plain": [
       "4"
      ]
     },
     "execution_count": 23,
     "metadata": {},
     "output_type": "execute_result"
    }
   ],
   "source": [
    "len(name) # len only works on containers"
   ]
  },
  {
   "cell_type": "code",
   "execution_count": 24,
   "id": "8ac17f2c-13ca-4fa7-8502-4fe8689d3b3f",
   "metadata": {},
   "outputs": [
    {
     "ename": "TypeError",
     "evalue": "object of type 'float' has no len()",
     "output_type": "error",
     "traceback": [
      "\u001b[0;31m---------------------------------------------------------------------------\u001b[0m",
      "\u001b[0;31mTypeError\u001b[0m                                 Traceback (most recent call last)",
      "Cell \u001b[0;32mIn[24], line 2\u001b[0m\n\u001b[1;32m      1\u001b[0m number \u001b[38;5;241m=\u001b[39m \u001b[38;5;241m1.234\u001b[39m\n\u001b[0;32m----> 2\u001b[0m \u001b[38;5;28;43mlen\u001b[39;49m\u001b[43m(\u001b[49m\u001b[43mnumber\u001b[49m\u001b[43m)\u001b[49m\n",
      "\u001b[0;31mTypeError\u001b[0m: object of type 'float' has no len()"
     ]
    }
   ],
   "source": [
    "number = 1.234\n",
    "len(number)"
   ]
  },
  {
   "cell_type": "code",
   "execution_count": 25,
   "id": "fac91885-f531-4bbd-bb4d-6eb16d39e303",
   "metadata": {},
   "outputs": [
    {
     "data": {
      "text/plain": [
       "'Bruce Lee'"
      ]
     },
     "execution_count": 25,
     "metadata": {},
     "output_type": "execute_result"
    }
   ],
   "source": [
    "'Bruce' + ' ' + 'Lee'"
   ]
  },
  {
   "cell_type": "code",
   "execution_count": 28,
   "id": "f774472e-b37e-43d6-98cc-32a448bda0c7",
   "metadata": {},
   "outputs": [
    {
     "data": {
      "text/plain": [
       "'Dave12345'"
      ]
     },
     "execution_count": 28,
     "metadata": {},
     "output_type": "execute_result"
    }
   ],
   "source": [
    "'Dave' + '12345'"
   ]
  },
  {
   "cell_type": "code",
   "execution_count": 30,
   "id": "7e6c561d-c3a4-42f3-9b46-9df1f1a7618a",
   "metadata": {},
   "outputs": [],
   "source": [
    "# PEP-8 vs. Pythonic\n",
    "cost = 19.95\n",
    "quantity = 4\n",
    "total_cost = cost*quantity # spaces around operators is PEP-8\n",
    "\n",
    "nums = [1, 42, 3, -12]\n",
    "nums[len(nums) - 1] = -15 # works, but not Python, because [-1] is clearer"
   ]
  },
  {
   "cell_type": "code",
   "execution_count": 31,
   "id": "551bd18f-6c19-4408-bf8f-7f7acdaa6590",
   "metadata": {},
   "outputs": [],
   "source": [
    "import math # import or bring a module into memory"
   ]
  },
  {
   "cell_type": "code",
   "execution_count": 32,
   "id": "0f60307e-5718-47a8-8998-1b48e6344d2c",
   "metadata": {},
   "outputs": [
    {
     "name": "stdout",
     "output_type": "stream",
     "text": [
      "\n"
     ]
    }
   ],
   "source": [
    "print()"
   ]
  },
  {
   "cell_type": "code",
   "execution_count": 33,
   "id": "b78627db-edbb-427f-944d-1bb7de7f7434",
   "metadata": {},
   "outputs": [
    {
     "name": "stdout",
     "output_type": "stream",
     "text": [
      "1 2 3 blah\n"
     ]
    }
   ],
   "source": [
    "print(1, 2, 3, 'blah')"
   ]
  },
  {
   "cell_type": "code",
   "execution_count": 35,
   "id": "a77a4fac-41d5-43c4-a9e7-fc656f0dec0b",
   "metadata": {},
   "outputs": [
    {
     "name": "stdout",
     "output_type": "stream",
     "text": [
      "1, 2, 3, blah\n"
     ]
    }
   ],
   "source": [
    "print(1, 2, 3, 'blah', sep=', ')"
   ]
  },
  {
   "cell_type": "code",
   "execution_count": 37,
   "id": "13208fe6-0cbf-40d3-a313-5215c008951e",
   "metadata": {},
   "outputs": [
    {
     "name": "stdout",
     "output_type": "stream",
     "text": [
      "1\n",
      "2\n",
      "3\n",
      "blah\n"
     ]
    }
   ],
   "source": [
    "print(1, 2, 3, 'blah', sep='\\n')\n",
    "# sep= is a *directive* to the print() function that says put a \\n between each pair of items you print"
   ]
  },
  {
   "cell_type": "code",
   "execution_count": 41,
   "id": "9fb6b378-8ffb-4350-81cc-43045e0b649d",
   "metadata": {},
   "outputs": [
    {
     "name": "stdout",
     "output_type": "stream",
     "text": [
      "1 2 3 four\n"
     ]
    }
   ],
   "source": [
    "print(1, 2, 3, end=' ') # emit/put a SPACE at the end of the print\n",
    "print('four')"
   ]
  },
  {
   "cell_type": "code",
   "execution_count": 43,
   "id": "9ad09bd1-9fca-47fd-b885-0d3b511164a9",
   "metadata": {},
   "outputs": [
    {
     "name": "stdout",
     "output_type": "stream",
     "text": [
      "abcdefghijkl\n"
     ]
    }
   ],
   "source": [
    "print('abcdef', end='') # put \"nothing\" at the end of the print\n",
    "print('ghijkl')"
   ]
  },
  {
   "cell_type": "code",
   "execution_count": 45,
   "id": "721d2707-585e-4734-978a-e529a168f6a3",
   "metadata": {},
   "outputs": [
    {
     "name": "stdout",
     "output_type": "stream",
     "text": [
      "something\n",
      "\n",
      "\n",
      "else\n"
     ]
    }
   ],
   "source": [
    "end_marker = '\\n\\n\\n' # two newlines/carriage returns\n",
    "print('something', end=end_marker)\n",
    "print('else')"
   ]
  },
  {
   "cell_type": "code",
   "execution_count": 46,
   "id": "0cb35c4a-063f-45d4-be15-df7cc77a0c65",
   "metadata": {},
   "outputs": [],
   "source": [
    "def silly_function():\n",
    "    return '\\n...\\n'"
   ]
  },
  {
   "cell_type": "code",
   "execution_count": 47,
   "id": "239a2b54-c345-451c-94af-971b92859d5e",
   "metadata": {},
   "outputs": [
    {
     "data": {
      "text/plain": [
       "'\\n...\\n'"
      ]
     },
     "execution_count": 47,
     "metadata": {},
     "output_type": "execute_result"
    }
   ],
   "source": [
    "silly_function()"
   ]
  },
  {
   "cell_type": "code",
   "execution_count": 51,
   "id": "e8022f9e-0299-45c9-92d2-8b6edb42ee2b",
   "metadata": {},
   "outputs": [
    {
     "name": "stdout",
     "output_type": "stream",
     "text": [
      "1 2 3\n",
      "...\n",
      "4\n"
     ]
    }
   ],
   "source": [
    "print(1, 2, 3, end=silly_function()) # directing print() to put something different at the end\n",
    "print(4)"
   ]
  },
  {
   "cell_type": "code",
   "execution_count": 49,
   "id": "cf04a190-9c1a-4b36-a8f7-0a8a7276cc76",
   "metadata": {},
   "outputs": [],
   "source": [
    "name = 'Grace Hopper' # \"assignment statement\" - put the right hand side into the varibable on the left hand side"
   ]
  },
  {
   "cell_type": "code",
   "execution_count": 52,
   "id": "61304e9a-8d27-4482-b54d-3999fc39a337",
   "metadata": {},
   "outputs": [
    {
     "name": "stdout",
     "output_type": "stream",
     "text": [
      "Hello World!\n"
     ]
    }
   ],
   "source": [
    "print(\"Hello\", end=\" \")\n",
    "print(\"World!\")"
   ]
  },
  {
   "cell_type": "code",
   "execution_count": 53,
   "id": "254a3279-d58a-4621-8141-2810c9bfd79d",
   "metadata": {},
   "outputs": [
    {
     "name": "stdout",
     "output_type": "stream",
     "text": [
      "Learn-Python!It's fun!\n"
     ]
    }
   ],
   "source": [
    "print(\"Learn\", \"Python\", sep=\"-\", end=\"!\")\n",
    "print(\"It's fun!\")"
   ]
  },
  {
   "cell_type": "code",
   "execution_count": 54,
   "id": "7238e529-da0a-4f11-a7f1-389f33e5af3d",
   "metadata": {},
   "outputs": [],
   "source": [
    "text = \"You can't try this!\""
   ]
  },
  {
   "cell_type": "code",
   "execution_count": 55,
   "id": "bc1529be-25b7-42b2-ac90-7318183e790d",
   "metadata": {},
   "outputs": [
    {
     "data": {
      "text/plain": [
       "\"You can't try this!\""
      ]
     },
     "execution_count": 55,
     "metadata": {},
     "output_type": "execute_result"
    }
   ],
   "source": [
    "text"
   ]
  },
  {
   "cell_type": "code",
   "execution_count": 56,
   "id": "178441ed-d5f4-4a83-a317-55235273d63e",
   "metadata": {},
   "outputs": [],
   "source": [
    "text2 = 'He said, \"Try harder!\"'"
   ]
  },
  {
   "cell_type": "code",
   "execution_count": 57,
   "id": "fd9f7e31-bce5-439e-9d9f-77e657187630",
   "metadata": {},
   "outputs": [
    {
     "data": {
      "text/plain": [
       "'He said, \"Try harder!\"'"
      ]
     },
     "execution_count": 57,
     "metadata": {},
     "output_type": "execute_result"
    }
   ],
   "source": [
    "text2"
   ]
  },
  {
   "cell_type": "code",
   "execution_count": 58,
   "id": "6c77415c-bc2d-4407-9bbd-13a02defa667",
   "metadata": {},
   "outputs": [],
   "source": [
    "text3 = 'He said, \"Don\\'t do that\" yesterday'"
   ]
  },
  {
   "cell_type": "code",
   "execution_count": 61,
   "id": "08abf606-cb1b-4fb7-9bbb-97052cc8fe30",
   "metadata": {},
   "outputs": [
    {
     "data": {
      "text/plain": [
       "'He said, \"Don\\'t do that\" yesterday'"
      ]
     },
     "execution_count": 61,
     "metadata": {},
     "output_type": "execute_result"
    }
   ],
   "source": [
    "text3 # tell me the value of this expression (variables are expressions)"
   ]
  },
  {
   "cell_type": "code",
   "execution_count": 62,
   "id": "ed53cadb-d83f-4b04-bc0b-d74868fff117",
   "metadata": {},
   "outputs": [],
   "source": [
    "name = 'Grace Hopper'"
   ]
  },
  {
   "cell_type": "code",
   "execution_count": 63,
   "id": "17129bcb-6162-43f4-93fa-7352b62445b5",
   "metadata": {},
   "outputs": [
    {
     "data": {
      "text/plain": [
       "'Grace Hopper'"
      ]
     },
     "execution_count": 63,
     "metadata": {},
     "output_type": "execute_result"
    }
   ],
   "source": [
    "name # hey, Python, tell me the value of this expression or variable"
   ]
  },
  {
   "cell_type": "code",
   "execution_count": 64,
   "id": "13c01d02-4575-4362-89d3-ddf0d220dd3a",
   "metadata": {},
   "outputs": [
    {
     "name": "stdout",
     "output_type": "stream",
     "text": [
      "Your name is Grace Hopper\n"
     ]
    }
   ],
   "source": [
    "print('Your name is', name)"
   ]
  },
  {
   "cell_type": "code",
   "execution_count": 65,
   "id": "2b42602c-d8d9-434b-b6d4-3da6aca927ad",
   "metadata": {},
   "outputs": [
    {
     "data": {
      "text/plain": [
       "35"
      ]
     },
     "execution_count": 65,
     "metadata": {},
     "output_type": "execute_result"
    }
   ],
   "source": [
    "5 * 7 # Python will dutifully evaluate this and give me the answer, but I didn't say print()"
   ]
  },
  {
   "cell_type": "code",
   "execution_count": 67,
   "id": "bd42feeb-f9fb-4a12-9e76-8583addc89de",
   "metadata": {},
   "outputs": [],
   "source": [
    "error = True # bold-faced green means a \"keyword\" or part of the Python language"
   ]
  },
  {
   "cell_type": "code",
   "execution_count": 68,
   "id": "85f33414-766f-454c-a9ec-c5347a585c5b",
   "metadata": {},
   "outputs": [
    {
     "data": {
      "text/plain": [
       "True"
      ]
     },
     "execution_count": 68,
     "metadata": {},
     "output_type": "execute_result"
    }
   ],
   "source": [
    "error"
   ]
  },
  {
   "cell_type": "code",
   "execution_count": 69,
   "id": "b5299fb8-e4d2-434e-a6d6-83ed2d4953a4",
   "metadata": {},
   "outputs": [],
   "source": [
    "error_string = 'True'"
   ]
  },
  {
   "cell_type": "code",
   "execution_count": 70,
   "id": "a10f6051-c6f4-45f5-a550-38e5b2d5b0c3",
   "metadata": {},
   "outputs": [
    {
     "data": {
      "text/plain": [
       "'True'"
      ]
     },
     "execution_count": 70,
     "metadata": {},
     "output_type": "execute_result"
    }
   ],
   "source": [
    "error_string"
   ]
  },
  {
   "cell_type": "code",
   "execution_count": 71,
   "id": "e58ecba4-e144-4b3e-b49b-a04e54280331",
   "metadata": {},
   "outputs": [
    {
     "data": {
      "text/plain": [
       "(bool, str)"
      ]
     },
     "execution_count": 71,
     "metadata": {},
     "output_type": "execute_result"
    }
   ],
   "source": [
    "type(error), type(error_string)"
   ]
  },
  {
   "cell_type": "code",
   "execution_count": 72,
   "id": "710ecf3f-daa6-424f-aa32-18b26fc61c88",
   "metadata": {},
   "outputs": [
    {
     "name": "stdout",
     "output_type": "stream",
     "text": [
      "The error string was: True\n"
     ]
    }
   ],
   "source": [
    "print('The error string was:', error_string)"
   ]
  },
  {
   "cell_type": "code",
   "execution_count": 73,
   "id": "2782bf30-a0af-4b75-bc49-2320a324a51c",
   "metadata": {},
   "outputs": [
    {
     "name": "stdout",
     "output_type": "stream",
     "text": [
      "My name is Dave\n"
     ]
    }
   ],
   "source": [
    "name = 'Dave'\n",
    "print('My name is', name)"
   ]
  },
  {
   "cell_type": "code",
   "execution_count": 74,
   "id": "b271c515-bf68-4743-b3b4-0b5800895038",
   "metadata": {},
   "outputs": [],
   "source": [
    "import math # bold green == keyword (part of Python language)"
   ]
  },
  {
   "cell_type": "code",
   "execution_count": 75,
   "id": "0011a6f3-de79-470a-b81e-313f1afe0eff",
   "metadata": {},
   "outputs": [
    {
     "data": {
      "text/plain": [
       "['__doc__',\n",
       " '__file__',\n",
       " '__loader__',\n",
       " '__name__',\n",
       " '__package__',\n",
       " '__spec__',\n",
       " 'acos',\n",
       " 'acosh',\n",
       " 'asin',\n",
       " 'asinh',\n",
       " 'atan',\n",
       " 'atan2',\n",
       " 'atanh',\n",
       " 'cbrt',\n",
       " 'ceil',\n",
       " 'comb',\n",
       " 'copysign',\n",
       " 'cos',\n",
       " 'cosh',\n",
       " 'degrees',\n",
       " 'dist',\n",
       " 'e',\n",
       " 'erf',\n",
       " 'erfc',\n",
       " 'exp',\n",
       " 'exp2',\n",
       " 'expm1',\n",
       " 'fabs',\n",
       " 'factorial',\n",
       " 'floor',\n",
       " 'fma',\n",
       " 'fmod',\n",
       " 'frexp',\n",
       " 'fsum',\n",
       " 'gamma',\n",
       " 'gcd',\n",
       " 'hypot',\n",
       " 'inf',\n",
       " 'isclose',\n",
       " 'isfinite',\n",
       " 'isinf',\n",
       " 'isnan',\n",
       " 'isqrt',\n",
       " 'lcm',\n",
       " 'ldexp',\n",
       " 'lgamma',\n",
       " 'log',\n",
       " 'log10',\n",
       " 'log1p',\n",
       " 'log2',\n",
       " 'modf',\n",
       " 'nan',\n",
       " 'nextafter',\n",
       " 'perm',\n",
       " 'pi',\n",
       " 'pow',\n",
       " 'prod',\n",
       " 'radians',\n",
       " 'remainder',\n",
       " 'sin',\n",
       " 'sinh',\n",
       " 'sqrt',\n",
       " 'sumprod',\n",
       " 'tan',\n",
       " 'tanh',\n",
       " 'tau',\n",
       " 'trunc',\n",
       " 'ulp']"
      ]
     },
     "execution_count": 75,
     "metadata": {},
     "output_type": "execute_result"
    }
   ],
   "source": [
    "dir(math) # light green == built-in function "
   ]
  },
  {
   "cell_type": "code",
   "execution_count": 76,
   "id": "9bc4142e-a455-4f8d-b994-dda6c548907e",
   "metadata": {},
   "outputs": [
    {
     "name": "stdout",
     "output_type": "stream",
     "text": [
      "Help on module math:\n",
      "\n",
      "NAME\n",
      "    math\n",
      "\n",
      "MODULE REFERENCE\n",
      "    https://docs.python.org/3.13/library/math.html\n",
      "\n",
      "    The following documentation is automatically generated from the Python\n",
      "    source files.  It may be incomplete, incorrect or include features that\n",
      "    are considered implementation detail and may vary between Python\n",
      "    implementations.  When in doubt, consult the module reference at the\n",
      "    location listed above.\n",
      "\n",
      "DESCRIPTION\n",
      "    This module provides access to the mathematical functions\n",
      "    defined by the C standard.\n",
      "\n",
      "FUNCTIONS\n",
      "    acos(x, /)\n",
      "        Return the arc cosine (measured in radians) of x.\n",
      "\n",
      "        The result is between 0 and pi.\n",
      "\n",
      "    acosh(x, /)\n",
      "        Return the inverse hyperbolic cosine of x.\n",
      "\n",
      "    asin(x, /)\n",
      "        Return the arc sine (measured in radians) of x.\n",
      "\n",
      "        The result is between -pi/2 and pi/2.\n",
      "\n",
      "    asinh(x, /)\n",
      "        Return the inverse hyperbolic sine of x.\n",
      "\n",
      "    atan(x, /)\n",
      "        Return the arc tangent (measured in radians) of x.\n",
      "\n",
      "        The result is between -pi/2 and pi/2.\n",
      "\n",
      "    atan2(y, x, /)\n",
      "        Return the arc tangent (measured in radians) of y/x.\n",
      "\n",
      "        Unlike atan(y/x), the signs of both x and y are considered.\n",
      "\n",
      "    atanh(x, /)\n",
      "        Return the inverse hyperbolic tangent of x.\n",
      "\n",
      "    cbrt(x, /)\n",
      "        Return the cube root of x.\n",
      "\n",
      "    ceil(x, /)\n",
      "        Return the ceiling of x as an Integral.\n",
      "\n",
      "        This is the smallest integer >= x.\n",
      "\n",
      "    comb(n, k, /)\n",
      "        Number of ways to choose k items from n items without repetition and without order.\n",
      "\n",
      "        Evaluates to n! / (k! * (n - k)!) when k <= n and evaluates\n",
      "        to zero when k > n.\n",
      "\n",
      "        Also called the binomial coefficient because it is equivalent\n",
      "        to the coefficient of k-th term in polynomial expansion of the\n",
      "        expression (1 + x)**n.\n",
      "\n",
      "        Raises TypeError if either of the arguments are not integers.\n",
      "        Raises ValueError if either of the arguments are negative.\n",
      "\n",
      "    copysign(x, y, /)\n",
      "        Return a float with the magnitude (absolute value) of x but the sign of y.\n",
      "\n",
      "        On platforms that support signed zeros, copysign(1.0, -0.0)\n",
      "        returns -1.0.\n",
      "\n",
      "    cos(x, /)\n",
      "        Return the cosine of x (measured in radians).\n",
      "\n",
      "    cosh(x, /)\n",
      "        Return the hyperbolic cosine of x.\n",
      "\n",
      "    degrees(x, /)\n",
      "        Convert angle x from radians to degrees.\n",
      "\n",
      "    dist(p, q, /)\n",
      "        Return the Euclidean distance between two points p and q.\n",
      "\n",
      "        The points should be specified as sequences (or iterables) of\n",
      "        coordinates.  Both inputs must have the same dimension.\n",
      "\n",
      "        Roughly equivalent to:\n",
      "            sqrt(sum((px - qx) ** 2.0 for px, qx in zip(p, q)))\n",
      "\n",
      "    erf(x, /)\n",
      "        Error function at x.\n",
      "\n",
      "    erfc(x, /)\n",
      "        Complementary error function at x.\n",
      "\n",
      "    exp(x, /)\n",
      "        Return e raised to the power of x.\n",
      "\n",
      "    exp2(x, /)\n",
      "        Return 2 raised to the power of x.\n",
      "\n",
      "    expm1(x, /)\n",
      "        Return exp(x)-1.\n",
      "\n",
      "        This function avoids the loss of precision involved in the direct evaluation of exp(x)-1 for small x.\n",
      "\n",
      "    fabs(x, /)\n",
      "        Return the absolute value of the float x.\n",
      "\n",
      "    factorial(n, /)\n",
      "        Find n!.\n",
      "\n",
      "        Raise a ValueError if x is negative or non-integral.\n",
      "\n",
      "    floor(x, /)\n",
      "        Return the floor of x as an Integral.\n",
      "\n",
      "        This is the largest integer <= x.\n",
      "\n",
      "    fma(x, y, z, /)\n",
      "        Fused multiply-add operation.\n",
      "\n",
      "        Compute (x * y) + z with a single round.\n",
      "\n",
      "    fmod(x, y, /)\n",
      "        Return fmod(x, y), according to platform C.\n",
      "\n",
      "        x % y may differ.\n",
      "\n",
      "    frexp(x, /)\n",
      "        Return the mantissa and exponent of x, as pair (m, e).\n",
      "\n",
      "        m is a float and e is an int, such that x = m * 2.**e.\n",
      "        If x is 0, m and e are both 0.  Else 0.5 <= abs(m) < 1.0.\n",
      "\n",
      "    fsum(seq, /)\n",
      "        Return an accurate floating-point sum of values in the iterable seq.\n",
      "\n",
      "        Assumes IEEE-754 floating-point arithmetic.\n",
      "\n",
      "    gamma(x, /)\n",
      "        Gamma function at x.\n",
      "\n",
      "    gcd(*integers)\n",
      "        Greatest Common Divisor.\n",
      "\n",
      "    hypot(...)\n",
      "        hypot(*coordinates) -> value\n",
      "\n",
      "        Multidimensional Euclidean distance from the origin to a point.\n",
      "\n",
      "        Roughly equivalent to:\n",
      "            sqrt(sum(x**2 for x in coordinates))\n",
      "\n",
      "        For a two dimensional point (x, y), gives the hypotenuse\n",
      "        using the Pythagorean theorem:  sqrt(x*x + y*y).\n",
      "\n",
      "        For example, the hypotenuse of a 3/4/5 right triangle is:\n",
      "\n",
      "            >>> hypot(3.0, 4.0)\n",
      "            5.0\n",
      "\n",
      "    isclose(a, b, *, rel_tol=1e-09, abs_tol=0.0)\n",
      "        Determine whether two floating-point numbers are close in value.\n",
      "\n",
      "          rel_tol\n",
      "            maximum difference for being considered \"close\", relative to the\n",
      "            magnitude of the input values\n",
      "          abs_tol\n",
      "            maximum difference for being considered \"close\", regardless of the\n",
      "            magnitude of the input values\n",
      "\n",
      "        Return True if a is close in value to b, and False otherwise.\n",
      "\n",
      "        For the values to be considered close, the difference between them\n",
      "        must be smaller than at least one of the tolerances.\n",
      "\n",
      "        -inf, inf and NaN behave similarly to the IEEE 754 Standard.  That\n",
      "        is, NaN is not close to anything, even itself.  inf and -inf are\n",
      "        only close to themselves.\n",
      "\n",
      "    isfinite(x, /)\n",
      "        Return True if x is neither an infinity nor a NaN, and False otherwise.\n",
      "\n",
      "    isinf(x, /)\n",
      "        Return True if x is a positive or negative infinity, and False otherwise.\n",
      "\n",
      "    isnan(x, /)\n",
      "        Return True if x is a NaN (not a number), and False otherwise.\n",
      "\n",
      "    isqrt(n, /)\n",
      "        Return the integer part of the square root of the input.\n",
      "\n",
      "    lcm(*integers)\n",
      "        Least Common Multiple.\n",
      "\n",
      "    ldexp(x, i, /)\n",
      "        Return x * (2**i).\n",
      "\n",
      "        This is essentially the inverse of frexp().\n",
      "\n",
      "    lgamma(x, /)\n",
      "        Natural logarithm of absolute value of Gamma function at x.\n",
      "\n",
      "    log(...)\n",
      "        log(x, [base=math.e])\n",
      "        Return the logarithm of x to the given base.\n",
      "\n",
      "        If the base is not specified, returns the natural logarithm (base e) of x.\n",
      "\n",
      "    log10(x, /)\n",
      "        Return the base 10 logarithm of x.\n",
      "\n",
      "    log1p(x, /)\n",
      "        Return the natural logarithm of 1+x (base e).\n",
      "\n",
      "        The result is computed in a way which is accurate for x near zero.\n",
      "\n",
      "    log2(x, /)\n",
      "        Return the base 2 logarithm of x.\n",
      "\n",
      "    modf(x, /)\n",
      "        Return the fractional and integer parts of x.\n",
      "\n",
      "        Both results carry the sign of x and are floats.\n",
      "\n",
      "    nextafter(x, y, /, *, steps=None)\n",
      "        Return the floating-point value the given number of steps after x towards y.\n",
      "\n",
      "        If steps is not specified or is None, it defaults to 1.\n",
      "\n",
      "        Raises a TypeError, if x or y is not a double, or if steps is not an integer.\n",
      "        Raises ValueError if steps is negative.\n",
      "\n",
      "    perm(n, k=None, /)\n",
      "        Number of ways to choose k items from n items without repetition and with order.\n",
      "\n",
      "        Evaluates to n! / (n - k)! when k <= n and evaluates\n",
      "        to zero when k > n.\n",
      "\n",
      "        If k is not specified or is None, then k defaults to n\n",
      "        and the function returns n!.\n",
      "\n",
      "        Raises TypeError if either of the arguments are not integers.\n",
      "        Raises ValueError if either of the arguments are negative.\n",
      "\n",
      "    pow(x, y, /)\n",
      "        Return x**y (x to the power of y).\n",
      "\n",
      "    prod(iterable, /, *, start=1)\n",
      "        Calculate the product of all the elements in the input iterable.\n",
      "\n",
      "        The default start value for the product is 1.\n",
      "\n",
      "        When the iterable is empty, return the start value.  This function is\n",
      "        intended specifically for use with numeric values and may reject\n",
      "        non-numeric types.\n",
      "\n",
      "    radians(x, /)\n",
      "        Convert angle x from degrees to radians.\n",
      "\n",
      "    remainder(x, y, /)\n",
      "        Difference between x and the closest integer multiple of y.\n",
      "\n",
      "        Return x - n*y where n*y is the closest integer multiple of y.\n",
      "        In the case where x is exactly halfway between two multiples of\n",
      "        y, the nearest even value of n is used. The result is always exact.\n",
      "\n",
      "    sin(x, /)\n",
      "        Return the sine of x (measured in radians).\n",
      "\n",
      "    sinh(x, /)\n",
      "        Return the hyperbolic sine of x.\n",
      "\n",
      "    sqrt(x, /)\n",
      "        Return the square root of x.\n",
      "\n",
      "    sumprod(p, q, /)\n",
      "        Return the sum of products of values from two iterables p and q.\n",
      "\n",
      "        Roughly equivalent to:\n",
      "\n",
      "            sum(itertools.starmap(operator.mul, zip(p, q, strict=True)))\n",
      "\n",
      "        For float and mixed int/float inputs, the intermediate products\n",
      "        and sums are computed with extended precision.\n",
      "\n",
      "    tan(x, /)\n",
      "        Return the tangent of x (measured in radians).\n",
      "\n",
      "    tanh(x, /)\n",
      "        Return the hyperbolic tangent of x.\n",
      "\n",
      "    trunc(x, /)\n",
      "        Truncates the Real x to the nearest Integral toward 0.\n",
      "\n",
      "        Uses the __trunc__ magic method.\n",
      "\n",
      "    ulp(x, /)\n",
      "        Return the value of the least significant bit of the float x.\n",
      "\n",
      "DATA\n",
      "    e = 2.718281828459045\n",
      "    inf = inf\n",
      "    nan = nan\n",
      "    pi = 3.141592653589793\n",
      "    tau = 6.283185307179586\n",
      "\n",
      "FILE\n",
      "    /Library/Frameworks/Python.framework/Versions/3.13/lib/python3.13/lib-dynload/math.cpython-313-darwin.so\n",
      "\n",
      "\n"
     ]
    }
   ],
   "source": [
    "help(math)"
   ]
  },
  {
   "cell_type": "code",
   "execution_count": 77,
   "id": "771c66c6-fa8e-45f8-beae-dbc129646bd5",
   "metadata": {},
   "outputs": [
    {
     "data": {
      "text/plain": [
       "4311390528"
      ]
     },
     "execution_count": 77,
     "metadata": {},
     "output_type": "execute_result"
    }
   ],
   "source": [
    "id(math)"
   ]
  },
  {
   "cell_type": "code",
   "execution_count": 79,
   "id": "efe42e92-2657-4916-8a42-998f19e67b02",
   "metadata": {},
   "outputs": [
    {
     "data": {
      "text/plain": [
       "4311764560"
      ]
     },
     "execution_count": 79,
     "metadata": {},
     "output_type": "execute_result"
    }
   ],
   "source": [
    "import random\n",
    "id(random)"
   ]
  },
  {
   "cell_type": "code",
   "execution_count": 80,
   "id": "31b7af4f-560d-4af3-ae22-1bd769942afe",
   "metadata": {},
   "outputs": [],
   "source": [
    "new_variable = 35"
   ]
  },
  {
   "cell_type": "code",
   "execution_count": 81,
   "id": "83a3efca-7ca7-4fca-96a0-69f4eaa434f0",
   "metadata": {},
   "outputs": [
    {
     "data": {
      "text/plain": [
       "4329172640"
      ]
     },
     "execution_count": 81,
     "metadata": {},
     "output_type": "execute_result"
    }
   ],
   "source": [
    "id(new_variable)"
   ]
  },
  {
   "cell_type": "code",
   "execution_count": 84,
   "id": "4155d06d-2a61-4902-85ca-bbb075517c57",
   "metadata": {},
   "outputs": [],
   "source": [
    "mem_id = id(new_variable) # no point to this, because you can't do anything with this number"
   ]
  },
  {
   "cell_type": "code",
   "execution_count": 83,
   "id": "60bed6bb-aa99-46dd-b493-7bab96e6b5de",
   "metadata": {},
   "outputs": [
    {
     "data": {
      "text/plain": [
       "4329172640"
      ]
     },
     "execution_count": 83,
     "metadata": {},
     "output_type": "execute_result"
    }
   ],
   "source": [
    "mem_id"
   ]
  },
  {
   "cell_type": "code",
   "execution_count": 85,
   "id": "5c147491-aa39-4177-b7c0-53486718b534",
   "metadata": {},
   "outputs": [
    {
     "data": {
      "text/plain": [
       "4306543664"
      ]
     },
     "execution_count": 85,
     "metadata": {},
     "output_type": "execute_result"
    }
   ],
   "source": [
    "id(print)"
   ]
  },
  {
   "cell_type": "code",
   "execution_count": 86,
   "id": "2f9bfae5-1106-467a-89b6-ad5b293012f4",
   "metadata": {},
   "outputs": [
    {
     "data": {
      "text/plain": [
       "9"
      ]
     },
     "execution_count": 86,
     "metadata": {},
     "output_type": "execute_result"
    }
   ],
   "source": [
    "# examples of \"duck typing\"\n",
    "max(3, 1, 4, 2, 9, -1)"
   ]
  },
  {
   "cell_type": "code",
   "execution_count": 89,
   "id": "a387d538-efc5-4109-b850-7635dc48028d",
   "metadata": {},
   "outputs": [
    {
     "data": {
      "text/plain": [
       "9.22"
      ]
     },
     "execution_count": 89,
     "metadata": {},
     "output_type": "execute_result"
    }
   ],
   "source": [
    "max(3.0, 1.1, 4.2, 2.4, 9.22, -1)"
   ]
  },
  {
   "cell_type": "code",
   "execution_count": 91,
   "id": "8f2eba46-21ce-4eb3-ac64-f8ff1e05d05c",
   "metadata": {},
   "outputs": [
    {
     "data": {
      "text/plain": [
       "'pear'"
      ]
     },
     "execution_count": 91,
     "metadata": {},
     "output_type": "execute_result"
    }
   ],
   "source": [
    "max('fig', 'apple', 'pear', 'banana')"
   ]
  },
  {
   "cell_type": "code",
   "execution_count": 94,
   "id": "c4296b6f-2743-42a2-9f92-35528e1e27be",
   "metadata": {},
   "outputs": [
    {
     "data": {
      "text/plain": [
       "[2, 3]"
      ]
     },
     "execution_count": 94,
     "metadata": {},
     "output_type": "execute_result"
    }
   ],
   "source": [
    "max([1, 2], [-1, 1], [2, 3], [1, 1])"
   ]
  },
  {
   "cell_type": "code",
   "execution_count": 95,
   "id": "76eaba24-739e-4414-8f11-091f4651cfaa",
   "metadata": {},
   "outputs": [
    {
     "data": {
      "text/plain": [
       "6"
      ]
     },
     "execution_count": 95,
     "metadata": {},
     "output_type": "execute_result"
    }
   ],
   "source": [
    "len('string')"
   ]
  },
  {
   "cell_type": "code",
   "execution_count": 96,
   "id": "cf304c40-8511-4c96-9f0c-673476409478",
   "metadata": {},
   "outputs": [
    {
     "data": {
      "text/plain": [
       "4"
      ]
     },
     "execution_count": 96,
     "metadata": {},
     "output_type": "execute_result"
    }
   ],
   "source": [
    "len([1, 2, 3, 4])"
   ]
  },
  {
   "cell_type": "code",
   "execution_count": 97,
   "id": "4f191c1e-365c-49c9-8eb1-cb47381c094a",
   "metadata": {
    "scrolled": true
   },
   "outputs": [
    {
     "data": {
      "text/plain": [
       "3"
      ]
     },
     "execution_count": 97,
     "metadata": {},
     "output_type": "execute_result"
    }
   ],
   "source": [
    "len((2, 3, 4))"
   ]
  },
  {
   "cell_type": "code",
   "execution_count": 98,
   "id": "69e02dc8-8c0f-43ab-aa9b-56a47fdd2374",
   "metadata": {
    "scrolled": true
   },
   "outputs": [
    {
     "ename": "TypeError",
     "evalue": "object of type 'int' has no len()",
     "output_type": "error",
     "traceback": [
      "\u001b[0;31m---------------------------------------------------------------------------\u001b[0m",
      "\u001b[0;31mTypeError\u001b[0m                                 Traceback (most recent call last)",
      "Cell \u001b[0;32mIn[98], line 1\u001b[0m\n\u001b[0;32m----> 1\u001b[0m \u001b[38;5;28;43mlen\u001b[39;49m\u001b[43m(\u001b[49m\u001b[38;5;241;43m2\u001b[39;49m\u001b[43m)\u001b[49m\n",
      "\u001b[0;31mTypeError\u001b[0m: object of type 'int' has no len()"
     ]
    }
   ],
   "source": [
    "len(2)"
   ]
  },
  {
   "cell_type": "code",
   "execution_count": 99,
   "id": "480c83f0-dae5-48df-8afa-c7a2227f9bd7",
   "metadata": {},
   "outputs": [
    {
     "ename": "TypeError",
     "evalue": "object of type 'float' has no len()",
     "output_type": "error",
     "traceback": [
      "\u001b[0;31m---------------------------------------------------------------------------\u001b[0m",
      "\u001b[0;31mTypeError\u001b[0m                                 Traceback (most recent call last)",
      "Cell \u001b[0;32mIn[99], line 1\u001b[0m\n\u001b[0;32m----> 1\u001b[0m \u001b[38;5;28;43mlen\u001b[39;49m\u001b[43m(\u001b[49m\u001b[38;5;241;43m1.23\u001b[39;49m\u001b[43m)\u001b[49m\n",
      "\u001b[0;31mTypeError\u001b[0m: object of type 'float' has no len()"
     ]
    }
   ],
   "source": [
    "len(1.23)"
   ]
  },
  {
   "cell_type": "code",
   "execution_count": 101,
   "id": "9c5a9ad8-1271-4822-b3e2-fc4e7793959b",
   "metadata": {},
   "outputs": [],
   "source": [
    "string = 'Guido van Rossum' # a string is a container, also called an \"iterable\""
   ]
  },
  {
   "cell_type": "code",
   "execution_count": 104,
   "id": "321e98a4-fdec-4b16-8be5-e38312c897ec",
   "metadata": {},
   "outputs": [
    {
     "name": "stdout",
     "output_type": "stream",
     "text": [
      "G\n",
      "u\n",
      "i\n",
      "d\n",
      "o\n",
      " \n",
      "v\n",
      "a\n",
      "n\n",
      " \n",
      "R\n",
      "o\n",
      "s\n",
      "s\n",
      "u\n",
      "m\n"
     ]
    }
   ],
   "source": [
    "for character in string: # iteration... \"for thing in container\"\n",
    "    print(character) # every call to print(), by default, ends with a \\n"
   ]
  },
  {
   "cell_type": "code",
   "execution_count": 123,
   "id": "891160c5-2104-4ed9-bdf7-3252e1045c2c",
   "metadata": {},
   "outputs": [],
   "source": [
    "# let's build our own duck-typed function\n",
    "\n",
    "def iterate(iterable):\n",
    "    \"\"\"Iterate over the items in the iterable passed\"\"\"\n",
    "    for thing in iterable:\n",
    "        print(thing)"
   ]
  },
  {
   "cell_type": "code",
   "execution_count": 131,
   "id": "8b8f95e5-563b-46b2-9a87-328b5affd1b3",
   "metadata": {},
   "outputs": [
    {
     "data": {
      "text/plain": [
       "{'name': 'Dave', 'occupation': 'instructor', 'year_hired': 2015, 5: 'five'}"
      ]
     },
     "execution_count": 131,
     "metadata": {},
     "output_type": "execute_result"
    }
   ],
   "source": [
    "person = { 'name': 'Dave', 'occupation': 'instructor', 'year_hired': 2015, 5: 'five' }\n",
    "person"
   ]
  },
  {
   "cell_type": "code",
   "execution_count": 124,
   "id": "830baeb1-4fe1-4c09-bfb2-a33f57b85e43",
   "metadata": {},
   "outputs": [
    {
     "ename": "TypeError",
     "evalue": "iterate() takes 1 positional argument but 3 were given",
     "output_type": "error",
     "traceback": [
      "\u001b[0;31m---------------------------------------------------------------------------\u001b[0m",
      "\u001b[0;31mTypeError\u001b[0m                                 Traceback (most recent call last)",
      "Cell \u001b[0;32mIn[124], line 1\u001b[0m\n\u001b[0;32m----> 1\u001b[0m \u001b[43miterate\u001b[49m\u001b[43m(\u001b[49m\u001b[38;5;241;43m1\u001b[39;49m\u001b[43m,\u001b[49m\u001b[43m \u001b[49m\u001b[38;5;241;43m2\u001b[39;49m\u001b[43m,\u001b[49m\u001b[43m \u001b[49m\u001b[38;5;124;43m'\u001b[39;49m\u001b[38;5;124;43mthree\u001b[39;49m\u001b[38;5;124;43m'\u001b[39;49m\u001b[43m)\u001b[49m\n",
      "\u001b[0;31mTypeError\u001b[0m: iterate() takes 1 positional argument but 3 were given"
     ]
    }
   ],
   "source": [
    "iterate(1, 2, 'three')"
   ]
  },
  {
   "cell_type": "code",
   "execution_count": 125,
   "id": "e457ae83-61f0-442f-90cf-f90ef89ef953",
   "metadata": {},
   "outputs": [
    {
     "ename": "TypeError",
     "evalue": "'int' object is not iterable",
     "output_type": "error",
     "traceback": [
      "\u001b[0;31m---------------------------------------------------------------------------\u001b[0m",
      "\u001b[0;31mTypeError\u001b[0m                                 Traceback (most recent call last)",
      "Cell \u001b[0;32mIn[125], line 1\u001b[0m\n\u001b[0;32m----> 1\u001b[0m \u001b[43miterate\u001b[49m\u001b[43m(\u001b[49m\u001b[38;5;241;43m1\u001b[39;49m\u001b[43m)\u001b[49m\n",
      "Cell \u001b[0;32mIn[123], line 5\u001b[0m, in \u001b[0;36miterate\u001b[0;34m(iterable)\u001b[0m\n\u001b[1;32m      3\u001b[0m \u001b[38;5;28;01mdef\u001b[39;00m\u001b[38;5;250m \u001b[39m\u001b[38;5;21miterate\u001b[39m(iterable):\n\u001b[1;32m      4\u001b[0m \u001b[38;5;250m    \u001b[39m\u001b[38;5;124;03m\"\"\"Iterate over the items in the argument\"\"\"\u001b[39;00m\n\u001b[0;32m----> 5\u001b[0m \u001b[43m    \u001b[49m\u001b[38;5;28;43;01mfor\u001b[39;49;00m\u001b[43m \u001b[49m\u001b[43mthing\u001b[49m\u001b[43m \u001b[49m\u001b[38;5;129;43;01min\u001b[39;49;00m\u001b[43m \u001b[49m\u001b[43miterable\u001b[49m\u001b[43m:\u001b[49m\n\u001b[1;32m      6\u001b[0m \u001b[43m        \u001b[49m\u001b[38;5;28;43mprint\u001b[39;49m\u001b[43m(\u001b[49m\u001b[43mthing\u001b[49m\u001b[43m)\u001b[49m\n",
      "\u001b[0;31mTypeError\u001b[0m: 'int' object is not iterable"
     ]
    }
   ],
   "source": [
    "iterate(1)"
   ]
  },
  {
   "cell_type": "code",
   "execution_count": 126,
   "id": "40aee702-72ee-4cf8-90a7-46e23a45ca90",
   "metadata": {},
   "outputs": [
    {
     "name": "stdout",
     "output_type": "stream",
     "text": [
      "1\n",
      "2\n",
      "three\n"
     ]
    }
   ],
   "source": [
    "iterate([1, 2, 'three'])"
   ]
  },
  {
   "cell_type": "code",
   "execution_count": 127,
   "id": "7ccc8e53-55de-4c58-a68f-152c6d7d8400",
   "metadata": {},
   "outputs": [
    {
     "name": "stdout",
     "output_type": "stream",
     "text": [
      "s\n",
      "t\n",
      "r\n",
      "i\n",
      "n\n",
      "g\n"
     ]
    }
   ],
   "source": [
    "iterate('string')"
   ]
  },
  {
   "cell_type": "code",
   "execution_count": 128,
   "id": "d3646a89-f24e-470c-a155-e98fd6ac11a6",
   "metadata": {},
   "outputs": [
    {
     "name": "stdout",
     "output_type": "stream",
     "text": [
      "1\n",
      "2\n",
      "3\n"
     ]
    }
   ],
   "source": [
    "iterate({1, 2, 3})"
   ]
  },
  {
   "cell_type": "code",
   "execution_count": 110,
   "id": "fad658cf-5823-4f54-b836-f5c984b26832",
   "metadata": {},
   "outputs": [],
   "source": [
    "string = 'thing'"
   ]
  },
  {
   "cell_type": "code",
   "execution_count": 111,
   "id": "12567441-e34c-4967-8a9c-5ac5ea94555f",
   "metadata": {},
   "outputs": [],
   "source": [
    "string = \"thing\""
   ]
  },
  {
   "cell_type": "code",
   "execution_count": 112,
   "id": "801c14fe-d2cf-4557-adab-2f3ef0260fd7",
   "metadata": {},
   "outputs": [],
   "source": [
    "string = \"\"\"This string\n",
    "spans multiple lines\n",
    "because Guido so graciously\n",
    "gave us the triple quote construct.\"\"\" # also ''' ... '''"
   ]
  },
  {
   "cell_type": "code",
   "execution_count": 114,
   "id": "7bc40259-b4ad-43d4-8cc1-635a5538de4d",
   "metadata": {},
   "outputs": [
    {
     "name": "stdout",
     "output_type": "stream",
     "text": [
      "This string\n",
      "spans multiple lines\n",
      "because Guido so graciously\n",
      "gave us the triple quote construct.\n"
     ]
    }
   ],
   "source": [
    "print(string)"
   ]
  },
  {
   "cell_type": "code",
   "execution_count": 132,
   "id": "4ffc7e2c-684e-477d-93c8-74964ca05c2a",
   "metadata": {},
   "outputs": [],
   "source": [
    "name = 'dave'"
   ]
  },
  {
   "cell_type": "code",
   "execution_count": 134,
   "id": "20850287-cb85-41ff-ac19-e60f52fecf2c",
   "metadata": {
    "scrolled": true
   },
   "outputs": [
    {
     "ename": "TypeError",
     "evalue": "'str' object does not support item assignment",
     "output_type": "error",
     "traceback": [
      "\u001b[0;31m---------------------------------------------------------------------------\u001b[0m",
      "\u001b[0;31mTypeError\u001b[0m                                 Traceback (most recent call last)",
      "Cell \u001b[0;32mIn[134], line 1\u001b[0m\n\u001b[0;32m----> 1\u001b[0m \u001b[43mname\u001b[49m\u001b[43m[\u001b[49m\u001b[38;5;241;43m0\u001b[39;49m\u001b[43m]\u001b[49m \u001b[38;5;241m=\u001b[39m \u001b[38;5;124m'\u001b[39m\u001b[38;5;124mD\u001b[39m\u001b[38;5;124m'\u001b[39m\n",
      "\u001b[0;31mTypeError\u001b[0m: 'str' object does not support item assignment"
     ]
    }
   ],
   "source": [
    "name[0] = 'D'"
   ]
  },
  {
   "cell_type": "code",
   "execution_count": 135,
   "id": "65a8cd19-69ed-4241-b595-7ed2d39d670c",
   "metadata": {},
   "outputs": [],
   "source": [
    "name = 'Dave'"
   ]
  },
  {
   "cell_type": "code",
   "execution_count": 136,
   "id": "146c1e44-a350-411a-af9e-3b1bd6a4fef0",
   "metadata": {},
   "outputs": [],
   "source": [
    "number = 4"
   ]
  },
  {
   "cell_type": "code",
   "execution_count": 137,
   "id": "6fbeaa2b-be13-441e-b80b-264ba8410b1d",
   "metadata": {},
   "outputs": [],
   "source": [
    "number = 3"
   ]
  },
  {
   "cell_type": "code",
   "execution_count": 140,
   "id": "eb8bd7fc-9c57-4d0b-bdcf-5a895f0f2135",
   "metadata": {},
   "outputs": [],
   "source": [
    "number = 1234"
   ]
  },
  {
   "cell_type": "code",
   "execution_count": 141,
   "id": "7dc3b3a6-f058-4f84-a628-ce51a3b35872",
   "metadata": {},
   "outputs": [],
   "source": [
    "string = '01234'"
   ]
  },
  {
   "cell_type": "code",
   "execution_count": 142,
   "id": "7cbbdc45-74a0-49a1-bdd4-4aa2957d65f9",
   "metadata": {},
   "outputs": [
    {
     "data": {
      "text/plain": [
       "'0'"
      ]
     },
     "execution_count": 142,
     "metadata": {},
     "output_type": "execute_result"
    }
   ],
   "source": [
    "string[0]"
   ]
  },
  {
   "cell_type": "code",
   "execution_count": 144,
   "id": "13db51e6-e147-4dd1-9c79-5a46cc761f6d",
   "metadata": {},
   "outputs": [
    {
     "data": {
      "text/plain": [
       "'4'"
      ]
     },
     "execution_count": 144,
     "metadata": {},
     "output_type": "execute_result"
    }
   ],
   "source": [
    "string[-1] # negative indexing counts in from the end, backwards"
   ]
  },
  {
   "cell_type": "code",
   "execution_count": 145,
   "id": "8b4fe3d4-2328-4a48-b171-c2a068ca678f",
   "metadata": {},
   "outputs": [],
   "source": [
    "numbers = [23, 45, 17, -1, 12]"
   ]
  },
  {
   "cell_type": "code",
   "execution_count": 146,
   "id": "e24c649e-5475-4a73-92ec-df4dae9805f2",
   "metadata": {},
   "outputs": [
    {
     "data": {
      "text/plain": [
       "5"
      ]
     },
     "execution_count": 146,
     "metadata": {},
     "output_type": "execute_result"
    }
   ],
   "source": [
    "len(numbers)"
   ]
  },
  {
   "cell_type": "code",
   "execution_count": 151,
   "id": "23dbd493-58c9-4b27-90d4-9cc7a2dfa9ce",
   "metadata": {},
   "outputs": [
    {
     "data": {
      "text/plain": [
       "12"
      ]
     },
     "execution_count": 151,
     "metadata": {},
     "output_type": "execute_result"
    }
   ],
   "source": [
    "numbers[len(numbers) - 1]"
   ]
  },
  {
   "cell_type": "code",
   "execution_count": 148,
   "id": "8228a6e8-4c5d-4e53-9927-6a82705d2b95",
   "metadata": {},
   "outputs": [
    {
     "data": {
      "text/plain": [
       "12"
      ]
     },
     "execution_count": 148,
     "metadata": {},
     "output_type": "execute_result"
    }
   ],
   "source": [
    "numbers[-1] # advantages? 1. No len() required 2. less typing"
   ]
  },
  {
   "cell_type": "code",
   "execution_count": 153,
   "id": "4d74cd61-2f8d-4162-8a3b-e3d40854bfff",
   "metadata": {},
   "outputs": [],
   "source": [
    "fruits = 'apple fig orange banana pear'.split()\n",
    "# fruits = ['apple', 'fig', 'orange', 'banana', 'pear']"
   ]
  },
  {
   "cell_type": "code",
   "execution_count": 154,
   "id": "d024c722-44ba-4a05-b6ad-8e6f1113a1dc",
   "metadata": {},
   "outputs": [
    {
     "data": {
      "text/plain": [
       "['apple', 'fig', 'orange', 'banana', 'pear']"
      ]
     },
     "execution_count": 154,
     "metadata": {},
     "output_type": "execute_result"
    }
   ],
   "source": [
    "fruits"
   ]
  },
  {
   "cell_type": "code",
   "execution_count": 156,
   "id": "9a87a65a-a7a3-4901-8666-82a68025dc98",
   "metadata": {},
   "outputs": [
    {
     "data": {
      "text/plain": [
       "'fig'"
      ]
     },
     "execution_count": 156,
     "metadata": {},
     "output_type": "execute_result"
    }
   ],
   "source": [
    "fruits[1]"
   ]
  },
  {
   "cell_type": "code",
   "execution_count": 157,
   "id": "fd194ea6-1d5d-4678-a0b2-65201dd84554",
   "metadata": {},
   "outputs": [],
   "source": [
    "# arrays are homogeneous–all items are the same type"
   ]
  },
  {
   "cell_type": "code",
   "execution_count": 158,
   "id": "75bf086e-4161-4094-aa5c-613a5d758e4c",
   "metadata": {},
   "outputs": [],
   "source": [
    "weird_list = [1, 'one', { 1: 'won' }]"
   ]
  },
  {
   "cell_type": "code",
   "execution_count": 159,
   "id": "3aef2654-f7a9-417c-97ae-d0205c851a0f",
   "metadata": {},
   "outputs": [
    {
     "data": {
      "text/plain": [
       "[1, 'one', {1: 'won'}]"
      ]
     },
     "execution_count": 159,
     "metadata": {},
     "output_type": "execute_result"
    }
   ],
   "source": [
    "weird_list"
   ]
  },
  {
   "cell_type": "code",
   "execution_count": 160,
   "id": "dc0c732d-b8ab-466f-81f3-65ffccea8df9",
   "metadata": {},
   "outputs": [],
   "source": [
    "# any comma-separated sequence of objects is a tuple\n",
    "employee = 'Cordani', 'David', 1, '212-555-1212', 'Connecticut', 2013"
   ]
  },
  {
   "cell_type": "code",
   "execution_count": 161,
   "id": "319fe5fe-1221-4ee0-a60d-ff2f132511e5",
   "metadata": {},
   "outputs": [
    {
     "data": {
      "text/plain": [
       "('Cordani', 'David', 1, '212-555-1212', 'Connecticut', 2013)"
      ]
     },
     "execution_count": 161,
     "metadata": {},
     "output_type": "execute_result"
    }
   ],
   "source": [
    "employee"
   ]
  },
  {
   "cell_type": "code",
   "execution_count": 162,
   "id": "6965539b-c122-4284-a0e9-48b7906dc8ee",
   "metadata": {},
   "outputs": [
    {
     "data": {
      "text/plain": [
       "tuple"
      ]
     },
     "execution_count": 162,
     "metadata": {},
     "output_type": "execute_result"
    }
   ],
   "source": [
    "type(employee)"
   ]
  },
  {
   "cell_type": "code",
   "execution_count": 164,
   "id": "b0f7ebcd-2ed1-4e6a-90de-39950d50b8fd",
   "metadata": {},
   "outputs": [
    {
     "data": {
      "text/plain": [
       "'Cordani'"
      ]
     },
     "execution_count": 164,
     "metadata": {},
     "output_type": "execute_result"
    }
   ],
   "source": [
    "employee[0]"
   ]
  },
  {
   "cell_type": "code",
   "execution_count": 165,
   "id": "292a88e2-223d-4a41-a12d-dd53c5fffbcc",
   "metadata": {},
   "outputs": [
    {
     "data": {
      "text/plain": [
       "2013"
      ]
     },
     "execution_count": 165,
     "metadata": {},
     "output_type": "execute_result"
    }
   ],
   "source": [
    "employee[-1]"
   ]
  },
  {
   "cell_type": "code",
   "execution_count": 166,
   "id": "9ca7152b-c20c-4484-92f8-294f98312717",
   "metadata": {},
   "outputs": [
    {
     "ename": "TypeError",
     "evalue": "'tuple' object does not support item assignment",
     "output_type": "error",
     "traceback": [
      "\u001b[0;31m---------------------------------------------------------------------------\u001b[0m",
      "\u001b[0;31mTypeError\u001b[0m                                 Traceback (most recent call last)",
      "Cell \u001b[0;32mIn[166], line 1\u001b[0m\n\u001b[0;32m----> 1\u001b[0m \u001b[43memployee\u001b[49m\u001b[43m[\u001b[49m\u001b[38;5;241;43m-\u001b[39;49m\u001b[38;5;241;43m1\u001b[39;49m\u001b[43m]\u001b[49m \u001b[38;5;241m=\u001b[39m \u001b[38;5;241m2014\u001b[39m\n",
      "\u001b[0;31mTypeError\u001b[0m: 'tuple' object does not support item assignment"
     ]
    }
   ],
   "source": [
    "employee[-1] = 2014"
   ]
  },
  {
   "cell_type": "code",
   "execution_count": 167,
   "id": "08551b80-d497-48ec-a989-21c8b8a35fa0",
   "metadata": {},
   "outputs": [
    {
     "ename": "TypeError",
     "evalue": "'str' object does not support item assignment",
     "output_type": "error",
     "traceback": [
      "\u001b[0;31m---------------------------------------------------------------------------\u001b[0m",
      "\u001b[0;31mTypeError\u001b[0m                                 Traceback (most recent call last)",
      "Cell \u001b[0;32mIn[167], line 2\u001b[0m\n\u001b[1;32m      1\u001b[0m name \u001b[38;5;241m=\u001b[39m \u001b[38;5;124m'\u001b[39m\u001b[38;5;124mdave\u001b[39m\u001b[38;5;124m'\u001b[39m\n\u001b[0;32m----> 2\u001b[0m \u001b[43mname\u001b[49m\u001b[43m[\u001b[49m\u001b[38;5;241;43m0\u001b[39;49m\u001b[43m]\u001b[49m \u001b[38;5;241m=\u001b[39m \u001b[38;5;124m'\u001b[39m\u001b[38;5;124mD\u001b[39m\u001b[38;5;124m'\u001b[39m\n",
      "\u001b[0;31mTypeError\u001b[0m: 'str' object does not support item assignment"
     ]
    }
   ],
   "source": [
    "name = 'dave'\n",
    "name[0] = 'D'"
   ]
  },
  {
   "cell_type": "code",
   "execution_count": 168,
   "id": "a796b6a1-d561-4d59-ac63-a9350b5e5f7d",
   "metadata": {},
   "outputs": [],
   "source": [
    "first_name = 'David'\n",
    "last_name = 'Cordani'\n",
    "tuple_of_vars = first_name, last_name"
   ]
  },
  {
   "cell_type": "code",
   "execution_count": 169,
   "id": "f5d48bcc-3fcd-4762-8776-9947e0aa731c",
   "metadata": {},
   "outputs": [
    {
     "data": {
      "text/plain": [
       "('David', 'Cordani')"
      ]
     },
     "execution_count": 169,
     "metadata": {},
     "output_type": "execute_result"
    }
   ],
   "source": [
    "tuple_of_vars"
   ]
  },
  {
   "cell_type": "code",
   "execution_count": 170,
   "id": "a692d628-e697-46fc-a576-bcbd9823b899",
   "metadata": {},
   "outputs": [],
   "source": [
    "first_name = 'Dave'"
   ]
  },
  {
   "cell_type": "code",
   "execution_count": 171,
   "id": "41b0066c-9bba-4cec-817a-b09b8f619c72",
   "metadata": {},
   "outputs": [
    {
     "data": {
      "text/plain": [
       "('David', 'Cordani')"
      ]
     },
     "execution_count": 171,
     "metadata": {},
     "output_type": "execute_result"
    }
   ],
   "source": [
    "tuple_of_vars"
   ]
  },
  {
   "cell_type": "code",
   "execution_count": 172,
   "id": "8e04232c-f8a8-4317-b9f9-f72d988b0266",
   "metadata": {},
   "outputs": [
    {
     "data": {
      "text/plain": [
       "(4329171552, 4329171552)"
      ]
     },
     "execution_count": 172,
     "metadata": {},
     "output_type": "execute_result"
    }
   ],
   "source": [
    "x = 1\n",
    "y = 1\n",
    "id(x), id(y)"
   ]
  },
  {
   "cell_type": "code",
   "execution_count": 173,
   "id": "7b2ea177-5c82-4756-b064-ec6f7160b787",
   "metadata": {},
   "outputs": [
    {
     "data": {
      "text/plain": [
       "4329171584"
      ]
     },
     "execution_count": 173,
     "metadata": {},
     "output_type": "execute_result"
    }
   ],
   "source": [
    "x = 2\n",
    "id(x)"
   ]
  },
  {
   "cell_type": "code",
   "execution_count": 174,
   "id": "cd85dbb6-bb8c-4aae-b26e-43fcc5a4efe1",
   "metadata": {},
   "outputs": [
    {
     "data": {
      "text/plain": [
       "4329171552"
      ]
     },
     "execution_count": 174,
     "metadata": {},
     "output_type": "execute_result"
    }
   ],
   "source": [
    "id(1)"
   ]
  },
  {
   "cell_type": "code",
   "execution_count": 175,
   "id": "ecb63552-dd17-493f-8a28-8bfb6257f9df",
   "metadata": {},
   "outputs": [
    {
     "data": {
      "text/plain": [
       "4435665152"
      ]
     },
     "execution_count": 175,
     "metadata": {},
     "output_type": "execute_result"
    }
   ],
   "source": [
    "mylist = [1, 2]\n",
    "id(mylist)"
   ]
  },
  {
   "cell_type": "code",
   "execution_count": 176,
   "id": "e97fdb65-d88b-4309-a84d-5d47ec8e4a75",
   "metadata": {},
   "outputs": [
    {
     "data": {
      "text/plain": [
       "4436352704"
      ]
     },
     "execution_count": 176,
     "metadata": {},
     "output_type": "execute_result"
    }
   ],
   "source": [
    "mylist = [1, 2]\n",
    "id(mylist)"
   ]
  },
  {
   "cell_type": "code",
   "execution_count": 177,
   "id": "567dac92-67ba-4bde-9bc2-a33b9956d028",
   "metadata": {},
   "outputs": [
    {
     "data": {
      "text/plain": [
       "(4329171552, 4329171584)"
      ]
     },
     "execution_count": 177,
     "metadata": {},
     "output_type": "execute_result"
    }
   ],
   "source": [
    "id(1), id(2)"
   ]
  },
  {
   "cell_type": "code",
   "execution_count": 178,
   "id": "2a713f6b-b812-4221-9623-488163b9531f",
   "metadata": {},
   "outputs": [
    {
     "data": {
      "text/plain": [
       "(4329171552, 4329171552)"
      ]
     },
     "execution_count": 178,
     "metadata": {},
     "output_type": "execute_result"
    }
   ],
   "source": [
    "x = 1\n",
    "id(x), id(1)"
   ]
  },
  {
   "cell_type": "code",
   "execution_count": 180,
   "id": "6aa5d09f-02a3-4a9b-844d-c17a21d92bcb",
   "metadata": {},
   "outputs": [],
   "source": [
    "y = 1"
   ]
  },
  {
   "cell_type": "code",
   "execution_count": 181,
   "id": "a1b86149-d56c-49e9-9fee-3ebeef7bdf72",
   "metadata": {},
   "outputs": [],
   "source": [
    "x += 1 # x is now 2"
   ]
  },
  {
   "cell_type": "code",
   "execution_count": 182,
   "id": "60fb0afd-e547-4f58-9761-d790a073aadb",
   "metadata": {},
   "outputs": [
    {
     "data": {
      "text/plain": [
       "(4329171584, 4329171584)"
      ]
     },
     "execution_count": 182,
     "metadata": {},
     "output_type": "execute_result"
    }
   ],
   "source": [
    "id(x), id(2)"
   ]
  },
  {
   "cell_type": "code",
   "execution_count": 183,
   "id": "421dcd6a-2e19-442a-b9a0-4e179591edf8",
   "metadata": {},
   "outputs": [],
   "source": [
    "new_thing = 'new thing!'"
   ]
  },
  {
   "cell_type": "code",
   "execution_count": 187,
   "id": "3b24b2f6-58e9-4e0f-80aa-9b07d655e4b6",
   "metadata": {},
   "outputs": [],
   "source": [
    "list_of_ones = [1] * 1_000_000 # list with 100 1's"
   ]
  },
  {
   "cell_type": "code",
   "execution_count": 188,
   "id": "892f3bf6-868b-4158-9595-dfb3c61e52ad",
   "metadata": {},
   "outputs": [
    {
     "data": {
      "text/plain": [
       "1000000"
      ]
     },
     "execution_count": 188,
     "metadata": {},
     "output_type": "execute_result"
    }
   ],
   "source": [
    "len(list_of_ones)"
   ]
  },
  {
   "cell_type": "code",
   "execution_count": 189,
   "id": "b28f5c2e-e20c-473d-a67d-531606cb9fa4",
   "metadata": {},
   "outputs": [],
   "source": [
    "employee = 'Cardoni', 'David', 'CEO', 1, '212-555-1212'"
   ]
  },
  {
   "cell_type": "code",
   "execution_count": 191,
   "id": "5830a842-5c24-4390-b28d-fed6a7266581",
   "metadata": {},
   "outputs": [
    {
     "data": {
      "text/plain": [
       "'CEO'"
      ]
     },
     "execution_count": 191,
     "metadata": {},
     "output_type": "execute_result"
    }
   ],
   "source": [
    "# good old indexing\n",
    "job_title = employee[2]\n",
    "job_title"
   ]
  },
  {
   "cell_type": "code",
   "execution_count": 195,
   "id": "8f1eac45-36a2-4f42-ab8c-0461eb04587e",
   "metadata": {},
   "outputs": [],
   "source": [
    "# tuple unpacking\n",
    "last_name, first_name, title, employee_id, phone = employee"
   ]
  },
  {
   "cell_type": "code",
   "execution_count": 196,
   "id": "3ccf7ed1-3687-4559-9255-87fdde45b2c9",
   "metadata": {},
   "outputs": [
    {
     "data": {
      "text/plain": [
       "'Cardoni'"
      ]
     },
     "execution_count": 196,
     "metadata": {},
     "output_type": "execute_result"
    }
   ],
   "source": [
    "last_name"
   ]
  },
  {
   "cell_type": "code",
   "execution_count": 197,
   "id": "2f9a86a9-d838-4366-9365-ea1f7bca236f",
   "metadata": {},
   "outputs": [],
   "source": [
    "_, _, title, _, phone = employee"
   ]
  },
  {
   "cell_type": "code",
   "execution_count": 198,
   "id": "149d5d66-16b2-4573-a24f-7b31246f383d",
   "metadata": {},
   "outputs": [],
   "source": [
    "last_name, *rest = employee"
   ]
  },
  {
   "cell_type": "code",
   "execution_count": 199,
   "id": "1799baac-a1cc-422b-8f72-01f56989d18f",
   "metadata": {},
   "outputs": [
    {
     "data": {
      "text/plain": [
       "'Cardoni'"
      ]
     },
     "execution_count": 199,
     "metadata": {},
     "output_type": "execute_result"
    }
   ],
   "source": [
    "last_name"
   ]
  },
  {
   "cell_type": "code",
   "execution_count": 200,
   "id": "7ef44c7e-f202-4cbe-9e15-807ccaf9c063",
   "metadata": {},
   "outputs": [
    {
     "data": {
      "text/plain": [
       "['David', 'CEO', 1, '212-555-1212']"
      ]
     },
     "execution_count": 200,
     "metadata": {},
     "output_type": "execute_result"
    }
   ],
   "source": [
    "rest"
   ]
  },
  {
   "cell_type": "code",
   "execution_count": 201,
   "id": "40cc88c5-0204-4d0d-b9ae-16f557051d80",
   "metadata": {},
   "outputs": [],
   "source": [
    "last_name, *rest, phone = employee"
   ]
  },
  {
   "cell_type": "code",
   "execution_count": 203,
   "id": "aaf1a129-eecb-47f0-ad46-19c408b91b12",
   "metadata": {},
   "outputs": [
    {
     "data": {
      "text/plain": [
       "('Cardoni', '212-555-1212')"
      ]
     },
     "execution_count": 203,
     "metadata": {},
     "output_type": "execute_result"
    }
   ],
   "source": [
    "last_name, phone"
   ]
  },
  {
   "cell_type": "code",
   "execution_count": 204,
   "id": "7aa75fcd-f62a-4147-af0f-e1739047fc21",
   "metadata": {},
   "outputs": [
    {
     "data": {
      "text/plain": [
       "['David', 'CEO', 1]"
      ]
     },
     "execution_count": 204,
     "metadata": {},
     "output_type": "execute_result"
    }
   ],
   "source": [
    "rest"
   ]
  },
  {
   "cell_type": "code",
   "execution_count": 205,
   "id": "7ba13d82-ec24-421b-af74-b3464c193ec8",
   "metadata": {},
   "outputs": [],
   "source": [
    "last_name, *_, phone = employee # * = \"unpack operator\""
   ]
  },
  {
   "cell_type": "code",
   "execution_count": 211,
   "id": "296f0168-e615-4723-9f77-a8f67e760ab5",
   "metadata": {},
   "outputs": [
    {
     "name": "stdout",
     "output_type": "stream",
     "text": [
      "[1, 2, 3, 4, 5, 6, 7, 8, 9, 10]\n"
     ]
    }
   ],
   "source": [
    "nums = list(range(1, 11))\n",
    "print(nums)"
   ]
  },
  {
   "cell_type": "code",
   "execution_count": 212,
   "id": "1eac5b89-5e7f-43d9-a7c9-c8d1f7a27b6d",
   "metadata": {},
   "outputs": [],
   "source": [
    "first, *rest, last = nums"
   ]
  },
  {
   "cell_type": "code",
   "execution_count": 213,
   "id": "dfe8a791-d2d9-4c57-89d4-e0433fceac1a",
   "metadata": {},
   "outputs": [
    {
     "data": {
      "text/plain": [
       "1"
      ]
     },
     "execution_count": 213,
     "metadata": {},
     "output_type": "execute_result"
    }
   ],
   "source": [
    "first"
   ]
  },
  {
   "cell_type": "code",
   "execution_count": 220,
   "id": "3ea480d9-ec7f-4485-a68d-31732c45b70a",
   "metadata": {},
   "outputs": [
    {
     "data": {
      "text/plain": [
       "[1, 2, 3, 4, 5, 6, 7, 8]"
      ]
     },
     "execution_count": 220,
     "metadata": {},
     "output_type": "execute_result"
    }
   ],
   "source": [
    "rest"
   ]
  },
  {
   "cell_type": "code",
   "execution_count": 216,
   "id": "5701eb07-3815-4edd-9e85-74c7d6f9ef17",
   "metadata": {},
   "outputs": [],
   "source": [
    "*rest, penultimate, last = nums"
   ]
  },
  {
   "cell_type": "code",
   "execution_count": 217,
   "id": "c833d729-96d8-4df3-977e-8be24dd26e4e",
   "metadata": {},
   "outputs": [
    {
     "data": {
      "text/plain": [
       "9"
      ]
     },
     "execution_count": 217,
     "metadata": {},
     "output_type": "execute_result"
    }
   ],
   "source": [
    "penultimate"
   ]
  },
  {
   "cell_type": "code",
   "execution_count": 218,
   "id": "9785a656-56ec-46bf-813f-9ee0dc9cceed",
   "metadata": {},
   "outputs": [
    {
     "data": {
      "text/plain": [
       "10"
      ]
     },
     "execution_count": 218,
     "metadata": {},
     "output_type": "execute_result"
    }
   ],
   "source": [
    "last"
   ]
  },
  {
   "cell_type": "code",
   "execution_count": 219,
   "id": "342e96ee-6ab0-4ec6-b40c-f01878ca2d81",
   "metadata": {},
   "outputs": [
    {
     "data": {
      "text/plain": [
       "[1, 2, 3, 4, 5, 6, 7, 8]"
      ]
     },
     "execution_count": 219,
     "metadata": {},
     "output_type": "execute_result"
    }
   ],
   "source": [
    "rest"
   ]
  },
  {
   "cell_type": "code",
   "execution_count": 223,
   "id": "a1028776-970b-438b-891b-6f2708a4274a",
   "metadata": {},
   "outputs": [],
   "source": [
    "def func(x, y, z):\n",
    "    # this function takes 3 arguments\n",
    "    print(x, y, z)"
   ]
  },
  {
   "cell_type": "code",
   "execution_count": 226,
   "id": "e0870ab0-29fb-4c18-ae42-df3d31175561",
   "metadata": {},
   "outputs": [
    {
     "name": "stdout",
     "output_type": "stream",
     "text": [
      "1 2 3\n",
      "1 2 3\n"
     ]
    }
   ],
   "source": [
    "nums = [1, 2, 3]\n",
    "func(*nums) # * means unpack the list into its constituent parts\n",
    "func(nums[0], nums[1], nums[2])"
   ]
  },
  {
   "cell_type": "code",
   "execution_count": 221,
   "id": "ecd7ba3b-75f7-43bb-bc32-9adcdea97288",
   "metadata": {},
   "outputs": [
    {
     "name": "stdout",
     "output_type": "stream",
     "text": [
      "1 blah\n",
      "2 blah\n",
      "3 blah\n",
      "4 blah\n",
      "5 blah\n"
     ]
    }
   ],
   "source": [
    "for count in range(1, 6):\n",
    "    print(count, 'blah') # loop variable is being used in body of loop"
   ]
  },
  {
   "cell_type": "code",
   "execution_count": 222,
   "id": "3969bfb8-16ca-4ac8-b013-49dc4b62bd61",
   "metadata": {},
   "outputs": [
    {
     "name": "stdout",
     "output_type": "stream",
     "text": [
      "blah\n",
      "blah\n",
      "blah\n",
      "blah\n",
      "blah\n"
     ]
    }
   ],
   "source": [
    "for count in range(1, 6): # we're not using count, so let's get rid of it\n",
    "    print('blah')         # reader can't tell which kind of loop this is:\n",
    "                          # count from 1 to 6 (not inclusive)\n",
    "                          # do something 5 times"
   ]
  },
  {
   "cell_type": "code",
   "execution_count": null,
   "id": "73043f36-51bd-44bf-837b-a578abf151ee",
   "metadata": {},
   "outputs": [],
   "source": [
    "for _ in range(5): # \"do this 5 times\"\n",
    "    print('blah')"
   ]
  },
  {
   "cell_type": "code",
   "execution_count": 228,
   "id": "bd0148a9-021c-424d-8e28-2a0b3f0d5a0e",
   "metadata": {},
   "outputs": [],
   "source": [
    "def func(x, y, z, color='pink', debug='on', count=5):\n",
    "    print(x, y, z)\n",
    "    print(color, debug, count)"
   ]
  },
  {
   "cell_type": "code",
   "execution_count": 229,
   "id": "825242f3-7ed3-4e7b-871c-e4e69e11a7fc",
   "metadata": {},
   "outputs": [
    {
     "name": "stdout",
     "output_type": "stream",
     "text": [
      "1 2 3\n",
      "pink on 5\n"
     ]
    }
   ],
   "source": [
    "func(1, 2, 3)"
   ]
  },
  {
   "cell_type": "code",
   "execution_count": 230,
   "id": "a4b1de44-7796-433d-85a6-15ee750b6207",
   "metadata": {},
   "outputs": [
    {
     "name": "stdout",
     "output_type": "stream",
     "text": [
      "1 2 3\n",
      "pink on -1\n"
     ]
    }
   ],
   "source": [
    "func(1, 2, 3, count=-1)"
   ]
  },
  {
   "cell_type": "code",
   "execution_count": 232,
   "id": "db4dd843-203c-4762-9def-169f3b49530d",
   "metadata": {},
   "outputs": [],
   "source": [
    "mysettings = {\n",
    "    'color': 'green',\n",
    "    'count': 1234,\n",
    "    'debug': 'off',\n",
    "}"
   ]
  },
  {
   "cell_type": "code",
   "execution_count": 236,
   "id": "7caaa4a9-c74e-4539-9189-699df38f150f",
   "metadata": {},
   "outputs": [
    {
     "name": "stdout",
     "output_type": "stream",
     "text": [
      "3 4 5\n",
      "green off 1234\n"
     ]
    }
   ],
   "source": [
    "func(3, 4, 5, **mysettings) # ** unpacking a dict"
   ]
  },
  {
   "cell_type": "code",
   "execution_count": 239,
   "id": "8107c78c-4254-442d-a3f9-5e784a5d449b",
   "metadata": {
    "scrolled": true
   },
   "outputs": [
    {
     "ename": "TypeError",
     "evalue": "func() got an unexpected keyword argument 'blah'",
     "output_type": "error",
     "traceback": [
      "\u001b[0;31m---------------------------------------------------------------------------\u001b[0m",
      "\u001b[0;31mTypeError\u001b[0m                                 Traceback (most recent call last)",
      "Cell \u001b[0;32mIn[239], line 1\u001b[0m\n\u001b[0;32m----> 1\u001b[0m \u001b[43mfunc\u001b[49m\u001b[43m(\u001b[49m\u001b[38;5;241;43m3\u001b[39;49m\u001b[43m,\u001b[49m\u001b[43m \u001b[49m\u001b[38;5;241;43m4\u001b[39;49m\u001b[43m,\u001b[49m\u001b[43m \u001b[49m\u001b[38;5;241;43m5\u001b[39;49m\u001b[43m,\u001b[49m\u001b[43m \u001b[49m\u001b[43mcolor\u001b[49m\u001b[38;5;241;43m=\u001b[39;49m\u001b[38;5;124;43m'\u001b[39;49m\u001b[38;5;124;43mgreen\u001b[39;49m\u001b[38;5;124;43m'\u001b[39;49m\u001b[43m,\u001b[49m\u001b[43m \u001b[49m\u001b[43mcount\u001b[49m\u001b[38;5;241;43m=\u001b[39;49m\u001b[38;5;124;43m'\u001b[39;49m\u001b[38;5;124;43m1234\u001b[39;49m\u001b[38;5;124;43m'\u001b[39;49m\u001b[43m,\u001b[49m\u001b[43m \u001b[49m\u001b[43mblah\u001b[49m\u001b[38;5;241;43m=\u001b[39;49m\u001b[38;5;124;43m'\u001b[39;49m\u001b[38;5;124;43moff\u001b[39;49m\u001b[38;5;124;43m'\u001b[39;49m\u001b[43m)\u001b[49m\n",
      "\u001b[0;31mTypeError\u001b[0m: func() got an unexpected keyword argument 'blah'"
     ]
    }
   ],
   "source": [
    "func(3, 4, 5, color='green', count='1234', debug='off')"
   ]
  },
  {
   "cell_type": "code",
   "execution_count": 240,
   "id": "903c092a-3a86-4fee-9055-430398144a74",
   "metadata": {},
   "outputs": [],
   "source": [
    "def func(x, y, z, *args):\n",
    "    print(x, y, z) # required\n",
    "    print(args) # optional 0+ args"
   ]
  },
  {
   "cell_type": "code",
   "execution_count": 243,
   "id": "88ca5988-e155-418e-8c42-0aa5000fa063",
   "metadata": {},
   "outputs": [
    {
     "name": "stdout",
     "output_type": "stream",
     "text": [
      "1 2 3\n",
      "(4, 5, 6)\n"
     ]
    }
   ],
   "source": [
    "func(1, 2, 3, 4, 5, 6)"
   ]
  },
  {
   "cell_type": "code",
   "execution_count": 244,
   "id": "7a7e392a-9f9e-45ba-b02a-31cdd9855f37",
   "metadata": {},
   "outputs": [
    {
     "name": "stdout",
     "output_type": "stream",
     "text": [
      "1 2 3\n",
      "('buckle', 'my', 'shoe')\n"
     ]
    }
   ],
   "source": [
    "func(1, 2, 3, 'buckle', 'my', 'shoe')"
   ]
  },
  {
   "cell_type": "code",
   "execution_count": 245,
   "id": "13141a82-c9cb-41f3-936e-713a3bfe1064",
   "metadata": {},
   "outputs": [
    {
     "name": "stdout",
     "output_type": "stream",
     "text": [
      "1 2 3\n",
      "()\n"
     ]
    }
   ],
   "source": [
    "func(1, 2, 3)"
   ]
  },
  {
   "cell_type": "code",
   "execution_count": 246,
   "id": "63af272c-c9b0-4349-81fc-ed78da3d61ab",
   "metadata": {},
   "outputs": [],
   "source": [
    "def func(x, y, z, *args):\n",
    "    print(x, y, z) # required\n",
    "    for thing in args:\n",
    "        print('optional arg:', thing)"
   ]
  },
  {
   "cell_type": "code",
   "execution_count": 247,
   "id": "b1696cc4-6c1e-484c-b12e-4861d1a86c2b",
   "metadata": {},
   "outputs": [
    {
     "name": "stdout",
     "output_type": "stream",
     "text": [
      "1 2 3\n",
      "optional arg: buckle\n",
      "optional arg: my\n",
      "optional arg: shoe\n"
     ]
    }
   ],
   "source": [
    "func(1, 2, 3, 'buckle', 'my', 'shoe')"
   ]
  },
  {
   "cell_type": "code",
   "execution_count": 248,
   "id": "97a20052-2ecb-409d-b84b-8272dfc1a909",
   "metadata": {},
   "outputs": [
    {
     "name": "stdout",
     "output_type": "stream",
     "text": [
      "1 2 3\n"
     ]
    }
   ],
   "source": [
    "func(1, 2, 3)"
   ]
  },
  {
   "cell_type": "code",
   "execution_count": 249,
   "id": "d344172c-3130-4311-b031-bd78dc8c9a3e",
   "metadata": {},
   "outputs": [],
   "source": [
    "def product(*args):\n",
    "    result = 1\n",
    "    for term in args:\n",
    "        result *= term\n",
    "\n",
    "    return result"
   ]
  },
  {
   "cell_type": "code",
   "execution_count": 250,
   "id": "352209c4-1167-429a-8da5-7343e3a4a5bc",
   "metadata": {},
   "outputs": [
    {
     "data": {
      "text/plain": [
       "6"
      ]
     },
     "execution_count": 250,
     "metadata": {},
     "output_type": "execute_result"
    }
   ],
   "source": [
    "product(1, 2, 3)"
   ]
  },
  {
   "cell_type": "code",
   "execution_count": 253,
   "id": "34233350-3350-4d18-bf75-4725f7a082ff",
   "metadata": {},
   "outputs": [
    {
     "data": {
      "text/plain": [
       "20"
      ]
     },
     "execution_count": 253,
     "metadata": {},
     "output_type": "execute_result"
    }
   ],
   "source": [
    "product(4, 5)"
   ]
  },
  {
   "cell_type": "code",
   "execution_count": 252,
   "id": "cdccba09-c455-488a-9779-fb33a48b6117",
   "metadata": {},
   "outputs": [
    {
     "data": {
      "text/plain": [
       "1"
      ]
     },
     "execution_count": 252,
     "metadata": {},
     "output_type": "execute_result"
    }
   ],
   "source": [
    "product()"
   ]
  },
  {
   "cell_type": "code",
   "execution_count": 254,
   "id": "7fda62c9-2fc5-43ca-aeb1-d9a23e2a6d7f",
   "metadata": {},
   "outputs": [],
   "source": [
    "# args is not a reserved word–it's a convention"
   ]
  },
  {
   "cell_type": "code",
   "execution_count": 255,
   "id": "19ddb62a-7460-466f-8b6c-b18d4ee0db4a",
   "metadata": {},
   "outputs": [],
   "source": [
    "def product(*terms):\n",
    "    result = 1\n",
    "    for term in terms:\n",
    "        result *= term\n",
    "\n",
    "    return result"
   ]
  },
  {
   "cell_type": "code",
   "execution_count": 256,
   "id": "6d946f87-b9d9-43ee-8000-392f736c7258",
   "metadata": {},
   "outputs": [],
   "source": [
    "# Shawn's Q-arguments to a function, do they change? Can they change?"
   ]
  },
  {
   "cell_type": "code",
   "execution_count": null,
   "id": "faac26c8-aba3-4693-a6d6-aed17672abe7",
   "metadata": {},
   "outputs": [],
   "source": []
  }
 ],
 "metadata": {
  "kernelspec": {
   "display_name": "Python 3 (ipykernel)",
   "language": "python",
   "name": "python3"
  },
  "language_info": {
   "codemirror_mode": {
    "name": "ipython",
    "version": 3
   },
   "file_extension": ".py",
   "mimetype": "text/x-python",
   "name": "python",
   "nbconvert_exporter": "python",
   "pygments_lexer": "ipython3",
   "version": "3.13.1"
  }
 },
 "nbformat": 4,
 "nbformat_minor": 5
}
